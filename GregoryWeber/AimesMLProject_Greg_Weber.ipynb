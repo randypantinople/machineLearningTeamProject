{
 "cells": [
  {
   "cell_type": "markdown",
   "metadata": {},
   "source": [
    "#  Deck and Porch vs. Price per Square Foot"
   ]
  },
  {
   "cell_type": "code",
   "execution_count": null,
   "metadata": {},
   "outputs": [],
   "source": [
    "### Deck and Porch ###\n",
    "\n",
    "# Create a dataframe with the 1 Deck column and the 4 Porch Columns\n",
    "DeckPorch = housing[['WoodDeckSF', 'OpenPorchSF', 'EnclosedPorch', '3SsnPorch', 'ScreenPorch']]\n",
    "\n",
    "# Average square footage for houses that have a deck or porch\n",
    "DeckPorch.apply(lambda column: column.sum()/(column!=0).sum())\n",
    "\n",
    "#How many non-zero values in each Deck and Porch column\n",
    "np.count_nonzero(DeckPorch, axis = 0)\n",
    "# WoodDeckSF       1240\n",
    "# OpenPorchSF      1406\n",
    "# EnclosedPorch    410\n",
    "# 3SsnPorch        30\n",
    "# ScreenPorch      225\n",
    "\n",
    "#make copy of dataframe\n",
    "housing3 = housing2.copy()\n",
    "\n",
    "# WoodDeck and OpenPorch are the most popular columns\n",
    "# So, create 2 new columns with True/False for Woodeck and OpenPorch\n",
    "housing3['has_WoodDeck'] = housing3['WoodDeckSF'] >0\n",
    "housing3['has_OpenPorch'] = housing3['OpenPorchSF'] >0\n",
    "housing3\n",
    "\n",
    "# Create barplot with: \n",
    "## x-axis = Price per Square Foot \n",
    "## y-axis: Wood Deck and Porch Combinations\n",
    "df3 =housing3.groupby(['has_OpenPorch', 'has_WoodDeck']).agg({'PriceSqft':'median'})\n",
    "df3.sort_values(by='PriceSqft').plot(kind='barh')"
   ]
  },
  {
   "cell_type": "markdown",
   "metadata": {},
   "source": [
    " \n",
    "# Kitchen Quality vs. Price per Square Foot Boxplot"
   ]
  },
  {
   "cell_type": "code",
   "execution_count": null,
   "metadata": {},
   "outputs": [],
   "source": [
    "sns.boxplot(data=housing2, \n",
    "            x='KitchenQual', \n",
    "            y='PriceSqft', \n",
    "            showfliers=False, \n",
    "            order = ['Poor','Fair','Average','Good','Excellent'])"
   ]
  }
 ],
 "metadata": {
  "kernelspec": {
   "display_name": "Python 3",
   "language": "python",
   "name": "python3"
  },
  "language_info": {
   "codemirror_mode": {
    "name": "ipython",
    "version": 3
   },
   "file_extension": ".py",
   "mimetype": "text/x-python",
   "name": "python",
   "nbconvert_exporter": "python",
   "pygments_lexer": "ipython3",
   "version": "3.7.4"
  }
 },
 "nbformat": 4,
 "nbformat_minor": 2
}
